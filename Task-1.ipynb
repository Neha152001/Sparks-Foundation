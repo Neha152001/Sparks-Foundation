{
 "cells": [
  {
   "cell_type": "markdown",
   "id": "28783803",
   "metadata": {},
   "source": [
    "# Linear Regression"
   ]
  },
  {
   "cell_type": "markdown",
   "id": "f3733671",
   "metadata": {},
   "source": [
    "* Linear Regression is Machine Learning algorithm based on  Supervised Learning <br>\n",
    "* It is manily used for predicting relationships between variables and forecasting"
   ]
  },
  {
   "attachments": {},
   "cell_type": "markdown",
   "id": "3e66bb4d",
   "metadata": {},
   "source": [
    "<img src=\"https://media.geeksforgeeks.org/wp-content/uploads/linear-regression-hypothesis.jpg\" width=\"200\" />"
   ]
  },
  {
   "cell_type": "markdown",
   "id": "acd0eb33",
   "metadata": {},
   "source": [
    "                     x: input training data (univariate – one input variable(parameter))<br>\n",
    "                     y: labels to data (supervised learning)<br>\n",
    "                     θ1: intercept<br>\n",
    "                     θ2: coefficient of x"
   ]
  },
  {
   "cell_type": "markdown",
   "id": "06e83e68",
   "metadata": {},
   "source": [
    "## Importing the data set from the given website "
   ]
  },
  {
   "cell_type": "code",
   "execution_count": 2,
   "id": "08b88b1d",
   "metadata": {},
   "outputs": [],
   "source": [
    "import pandas as pd\n",
    "import numpy as np\n",
    "import matplotlib.pyplot as plt\n",
    "from sklearn.model_selection import train_test_split\n",
    "from sklearn import linear_model\n",
    "from sklearn import metrics"
   ]
  },
  {
   "cell_type": "code",
   "execution_count": 3,
   "id": "6bf05f84",
   "metadata": {},
   "outputs": [],
   "source": [
    "#Getting the data from the given website in csv format\n",
    "url=\"http://bit.ly/w-data\"\n",
    "data=pd.read_csv(url)"
   ]
  },
  {
   "cell_type": "code",
   "execution_count": 4,
   "id": "1c8af5ed",
   "metadata": {},
   "outputs": [
    {
     "data": {
      "text/html": [
       "<div>\n",
       "<style scoped>\n",
       "    .dataframe tbody tr th:only-of-type {\n",
       "        vertical-align: middle;\n",
       "    }\n",
       "\n",
       "    .dataframe tbody tr th {\n",
       "        vertical-align: top;\n",
       "    }\n",
       "\n",
       "    .dataframe thead th {\n",
       "        text-align: right;\n",
       "    }\n",
       "</style>\n",
       "<table border=\"1\" class=\"dataframe\">\n",
       "  <thead>\n",
       "    <tr style=\"text-align: right;\">\n",
       "      <th></th>\n",
       "      <th>Hours</th>\n",
       "      <th>Scores</th>\n",
       "    </tr>\n",
       "  </thead>\n",
       "  <tbody>\n",
       "    <tr>\n",
       "      <th>0</th>\n",
       "      <td>2.5</td>\n",
       "      <td>21</td>\n",
       "    </tr>\n",
       "    <tr>\n",
       "      <th>1</th>\n",
       "      <td>5.1</td>\n",
       "      <td>47</td>\n",
       "    </tr>\n",
       "    <tr>\n",
       "      <th>2</th>\n",
       "      <td>3.2</td>\n",
       "      <td>27</td>\n",
       "    </tr>\n",
       "    <tr>\n",
       "      <th>3</th>\n",
       "      <td>8.5</td>\n",
       "      <td>75</td>\n",
       "    </tr>\n",
       "    <tr>\n",
       "      <th>4</th>\n",
       "      <td>3.5</td>\n",
       "      <td>30</td>\n",
       "    </tr>\n",
       "  </tbody>\n",
       "</table>\n",
       "</div>"
      ],
      "text/plain": [
       "   Hours  Scores\n",
       "0    2.5      21\n",
       "1    5.1      47\n",
       "2    3.2      27\n",
       "3    8.5      75\n",
       "4    3.5      30"
      ]
     },
     "execution_count": 4,
     "metadata": {},
     "output_type": "execute_result"
    }
   ],
   "source": [
    "#Displaying a part of the data set \n",
    "data.head()"
   ]
  },
  {
   "cell_type": "code",
   "execution_count": 5,
   "id": "5743a80e",
   "metadata": {},
   "outputs": [],
   "source": [
    "x=data.loc[:,\"Hours\"]\n",
    "y=data.loc[:,\"Scores\"]"
   ]
  },
  {
   "cell_type": "code",
   "execution_count": 6,
   "id": "b6a16cc3",
   "metadata": {},
   "outputs": [
    {
     "data": {
      "text/plain": [
       "0    2.5\n",
       "1    5.1\n",
       "2    3.2\n",
       "3    8.5\n",
       "4    3.5\n",
       "Name: Hours, dtype: float64"
      ]
     },
     "execution_count": 6,
     "metadata": {},
     "output_type": "execute_result"
    }
   ],
   "source": [
    "x.head()"
   ]
  },
  {
   "cell_type": "code",
   "execution_count": 7,
   "id": "27ba446a",
   "metadata": {},
   "outputs": [
    {
     "data": {
      "text/plain": [
       "0    21\n",
       "1    47\n",
       "2    27\n",
       "3    75\n",
       "4    30\n",
       "Name: Scores, dtype: int64"
      ]
     },
     "execution_count": 7,
     "metadata": {},
     "output_type": "execute_result"
    }
   ],
   "source": [
    "y.head()"
   ]
  },
  {
   "cell_type": "markdown",
   "id": "606d98d0",
   "metadata": {},
   "source": [
    "## Dividing the data set into Test and Train sets"
   ]
  },
  {
   "cell_type": "code",
   "execution_count": 8,
   "id": "5564fd64",
   "metadata": {},
   "outputs": [],
   "source": [
    "#Dividing the data set into test and train sets in the ratio 1:4\n",
    "x_train,x_test,y_train,y_test=train_test_split(x,y,test_size=0.2)"
   ]
  },
  {
   "cell_type": "markdown",
   "id": "6840c3f3",
   "metadata": {},
   "source": [
    "Plotting a graph of Hours Vs Scores in the train data set to check the linear relationship between attributes"
   ]
  },
  {
   "cell_type": "code",
   "execution_count": 9,
   "id": "27c0c56a",
   "metadata": {},
   "outputs": [
    {
     "data": {
      "text/plain": [
       "<matplotlib.collections.PathCollection at 0x1a2ef4dc6d0>"
      ]
     },
     "execution_count": 9,
     "metadata": {},
     "output_type": "execute_result"
    },
    {
     "data": {
      "image/png": "[encoded data removed]",
      "text/plain": [
       "<Figure size 432x288 with 1 Axes>"
      ]
     },
     "metadata": {
      "needs_background": "light"
     },
     "output_type": "display_data"
    }
   ],
   "source": [
    "plt.title(\"Number of Hours of Study Vs Scores\")\n",
    "plt.xlabel(\"Number of Hours of Study\")\n",
    "plt.ylabel(\"Scores\")\n",
    "plt.scatter(x_train,y_train)"
   ]
  },
  {
   "cell_type": "markdown",
   "id": "2a1733c6",
   "metadata": {},
   "source": [
    "## Training the Linear Regression Model "
   ]
  },
  {
   "cell_type": "code",
   "execution_count": 10,
   "id": "c28b23ca",
   "metadata": {},
   "outputs": [
    {
     "data": {
      "text/plain": [
       "LinearRegression()"
      ]
     },
     "execution_count": 10,
     "metadata": {},
     "output_type": "execute_result"
    }
   ],
   "source": [
    "reg=linear_model.LinearRegression()\n",
    "reg.fit(np.array(x_train).reshape(-1,1),y_train)"
   ]
  },
  {
   "cell_type": "code",
   "execution_count": 11,
   "id": "b69c0afd",
   "metadata": {},
   "outputs": [],
   "source": [
    "predicted=reg.predict(np.array(x_test).reshape(-1,1))"
   ]
  },
  {
   "cell_type": "markdown",
   "id": "29c79876",
   "metadata": {},
   "source": [
    "Plotting a graph for Predicted Scores Vs the Actual Scores in the Test Data set"
   ]
  },
  {
   "cell_type": "code",
   "execution_count": 15,
   "id": "df792005",
   "metadata": {},
   "outputs": [
    {
     "data": {
      "text/plain": [
       "[<matplotlib.lines.Line2D at 0x1a2efe74d90>]"
      ]
     },
     "execution_count": 15,
     "metadata": {},
     "output_type": "execute_result"
    },
    {
     "data": {
      "image/png": "[encoded data removed]",
      "text/plain": [
       "<Figure size 432x288 with 1 Axes>"
      ]
     },
     "metadata": {
      "needs_background": "light"
     },
     "output_type": "display_data"
    }
   ],
   "source": [
    "plt.title(\"Difference between Predicted and Actual Values\")\n",
    "plt.xlabel(\"Hours\")\n",
    "plt.ylabel(\"Scores\")\n",
    "plt.scatter(x_test,predicted,color=\"red\")\n",
    "plt.scatter(x_test,y_test,color=\"blue\")\n",
    "line = reg.coef_*x+reg.intercept_\n",
    "plt.plot(x,line,color=\"green\")"
   ]
  },
  {
   "cell_type": "code",
   "execution_count": 16,
   "id": "2447caac",
   "metadata": {},
   "outputs": [],
   "source": [
    "hours=9.25\n",
    "predictedScore=float(reg.predict(np.array([hours]).reshape(-1,1)))"
   ]
  },
  {
   "cell_type": "code",
   "execution_count": 17,
   "id": "bb29ae9b",
   "metadata": {},
   "outputs": [
    {
     "name": "stdout",
     "output_type": "stream",
     "text": [
      "Number of Hours = 9.25\n",
      "Predicted Score = 91.23182556604732\n"
     ]
    }
   ],
   "source": [
    "print(\"Number of Hours =\",hours)\n",
    "print(\"Predicted Score =\",predictedScore)"
   ]
  },
  {
   "cell_type": "markdown",
   "id": "fc095371",
   "metadata": {},
   "source": [
    "## Calculating the Mean Absolute Error "
   ]
  },
  {
   "cell_type": "markdown",
   "id": "e1a8a74d",
   "metadata": {},
   "source": [
    "<img src=\"https://www.gstatic.com/education/formulas2/443397389/en/mean_absolute_error.svg\" width=\"200\"/>\n",
    "            MAE =\tmean absolute error<br>\n",
    "            y_i\t=\tprediction<br>\n",
    "            x_i\t=\ttrue value<br>\n",
    "            n\t=\ttotal number of data points\n"
   ]
  },
  {
   "cell_type": "code",
   "execution_count": 18,
   "id": "a5d3b935",
   "metadata": {},
   "outputs": [
    {
     "name": "stdout",
     "output_type": "stream",
     "text": [
      "Mean Absolute Error = 5.92263173926286\n"
     ]
    }
   ],
   "source": [
    "print(\"Mean Absolute Error =\",metrics.mean_absolute_error(predicted,y_test))"
   ]
  }
 ],
 "metadata": {
  "kernelspec": {
   "display_name": "Python 3 (ipykernel)",
   "language": "python",
   "name": "python3"
  },
  "language_info": {
   "codemirror_mode": {
    "name": "ipython",
    "version": 3
   },
   "file_extension": ".py",
   "mimetype": "text/x-python",
   "name": "python",
   "nbconvert_exporter": "python",
   "pygments_lexer": "ipython3",
   "version": "3.9.7"
  }
 },
 "nbformat": 4,
 "nbformat_minor": 5
}
